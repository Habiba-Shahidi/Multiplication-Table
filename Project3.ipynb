{
  "nbformat": 4,
  "nbformat_minor": 0,
  "metadata": {
    "colab": {
      "name": "Project3.ipynb",
      "provenance": []
    },
    "kernelspec": {
      "name": "python3",
      "display_name": "Python 3"
    },
    "language_info": {
      "name": "python"
    }
  },
  "cells": [
    {
      "cell_type": "markdown",
      "source": [
        "Project 3 - Multiplication Table"
      ],
      "metadata": {
        "id": "ehqYwAmX_umv"
      }
    },
    {
      "cell_type": "code",
      "execution_count": 1,
      "metadata": {
        "colab": {
          "base_uri": "https://localhost:8080/"
        },
        "id": "xe2LUWfQ_tG_",
        "outputId": "a09ea09c-0ed5-4665-de42-18922e257670"
      },
      "outputs": [
        {
          "output_type": "stream",
          "name": "stdout",
          "text": [
            "Multiplication Table:\n",
            "Enter any number :25\n",
            "25 x 1 = 25\n",
            "25 x 2 = 50\n",
            "25 x 3 = 75\n",
            "25 x 4 = 100\n",
            "25 x 5 = 125\n",
            "25 x 6 = 150\n",
            "25 x 7 = 175\n",
            "25 x 8 = 200\n",
            "25 x 9 = 225\n",
            "25 x 10 = 250\n"
          ]
        }
      ],
      "source": [
        "print(\"Multiplication Table:\")\n",
        "n=int(input(\"Enter any number :\"))\n",
        "i=1\n",
        "while (i<=10):\n",
        "  print (n,\"x\", i, \"=\",i*n)\n",
        "  i=i+1"
      ]
    }
  ]
}